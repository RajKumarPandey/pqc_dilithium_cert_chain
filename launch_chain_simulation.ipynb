{
  "cells": [
    {
      "cell_type": "markdown",
      "metadata": {
        "id": "view-in-github",
        "colab_type": "text"
      },
      "source": [
        "<a href=\"https://colab.research.google.com/github/RajKumarPandey/pqc_dilithium_cert_chain/blob/main/launch_chain_simulation.ipynb\" target=\"_parent\"><img src=\"https://colab.research.google.com/assets/colab-badge.svg\" alt=\"Open In Colab\"/></a>"
      ]
    },
    {
      "cell_type": "markdown",
      "metadata": {
        "id": "EpqD95K9O2Dy"
      },
      "source": [
        "# 🚀 PQC Certificate Chain Launcher with Real Dilithium Support\n",
        "This notebook attempts to use real **Dilithium** keys via `pyoqs`, falling back to EC keys if PQC support isn't available.\n",
        "\n",
        "> Ensure you're using Google Colab with internet access and sufficient RAM."
      ]
    },
    {
      "cell_type": "code",
      "metadata": {
        "id": "EuPpDpzLO2Dz"
      },
      "source": [
        "# ✅ Step 1: Install Dependencies (Cryptography + PQC Tools)\n",
        "!pip install cryptography\n",
        "!pip install pyoqs || echo 'pyoqs unavailable, falling back to EC keys.'"
      ],
      "execution_count": null,
      "outputs": []
    },
    {
      "cell_type": "code",
      "metadata": {
        "id": "flmj9iy_O2Dz"
      },
      "source": [
        "# 🧠 Step 2: Import Utility Functions\n",
        "import sys\n",
        "sys.path.append('./src')\n",
        "from cert_utils import create_placeholder_certificate, build_certificate_chain\n",
        "try:\n",
        "    from pyoqs import Signature\n",
        "    OQS_AVAILABLE = True\n",
        "except ImportError:\n",
        "    print(\"pyoqs not available. Falling back to EC keys.\")\n",
        "    OQS_AVAILABLE = False"
      ],
      "execution_count": null,
      "outputs": []
    },
    {
      "cell_type": "code",
      "metadata": {
        "id": "SCXyV626O2Dz"
      },
      "source": [
        "# 🔐 Step 3: Generate Keypairs (Dilithium or EC fallback)\n",
        "from cryptography.hazmat.primitives import serialization\n",
        "from cryptography.hazmat.backends import default_backend\n",
        "from cryptography.hazmat.primitives.asymmetric import ec\n",
        "\n",
        "def generate_keypair():\n",
        "    if OQS_AVAILABLE:\n",
        "        sig = Signature(\"Dilithium3\")\n",
        "        public_key = sig.generate_keypair()\n",
        "        return sig, public_key\n",
        "    else:\n",
        "        key = ec.generate_private_key(ec.SECP384R1(), default_backend())\n",
        "        return key, key.public_key()\n",
        "\n",
        "# Use real or placeholder keys\n",
        "root_key, root_pub = generate_keypair()\n",
        "inter_key, inter_pub = generate_keypair()\n",
        "user_key, user_pub = generate_keypair()"
      ],
      "execution_count": null,
      "outputs": []
    },
    {
      "cell_type": "code",
      "metadata": {
        "id": "g4hSFFziO2D0"
      },
      "source": [
        "# 🔏 Step 4: Create Placeholder Certificates (Using keys above)\n",
        "root_cert = create_placeholder_certificate(\"Root CA\", \"Root CA\", root_key)\n",
        "inter_cert = create_placeholder_certificate(\"Intermediate CA\", \"Root CA\", inter_key)\n",
        "user_cert = create_placeholder_certificate(\"leaf.com\", \"Intermediate CA\", user_key)"
      ],
      "execution_count": null,
      "outputs": []
    },
    {
      "cell_type": "code",
      "metadata": {
        "id": "YmZM_IYHO2D0"
      },
      "source": [
        "# 💾 Step 5: Save PEM Files\n",
        "with open(\"root.pem\", \"wb\") as f:\n",
        "    f.write(root_cert.public_bytes(serialization.Encoding.PEM))\n",
        "with open(\"intermediate.pem\", \"wb\") as f:\n",
        "    f.write(inter_cert.public_bytes(serialization.Encoding.PEM))\n",
        "with open(\"user.pem\", \"wb\") as f:\n",
        "    f.write(user_cert.public_bytes(serialization.Encoding.PEM))"
      ],
      "execution_count": null,
      "outputs": []
    },
    {
      "cell_type": "code",
      "metadata": {
        "id": "dVIh_H_JO2D0"
      },
      "source": [
        "# 🔗 Step 6: Load and Print Certificate Chain\n",
        "chain = build_certificate_chain(\"user.pem\", [\"intermediate.pem\"], \"root.pem\")\n",
        "for idx, cert in enumerate(chain):\n",
        "    print(f\"\\nCertificate {idx+1}:\")\n",
        "    print(cert.subject)"
      ],
      "execution_count": null,
      "outputs": []
    },
    {
      "cell_type": "code",
      "metadata": {
        "id": "0df2debc"
      },
      "source": [
        "# Create a dummy cert_utils.py file with placeholder functions\n",
        "%%writefile src/cert_utils.py\n",
        "from cryptography import x509\n",
        "from cryptography.x509.oid import NameOID\n",
        "from cryptography.hazmat.primitives import hashes, serialization\n",
        "from cryptography.hazmat.primitives.asymmetric import ec\n",
        "from cryptography.hazmat.backends import default_backend\n",
        "import datetime\n",
        "\n",
        "def create_placeholder_certificate(subject_name, issuer_name, private_key):\n",
        "    \"\"\"Creates a placeholder X.509 certificate.\"\"\"\n",
        "    subject = x509.Name([\n",
        "        x509.NameAttribute(NameOID.COMMON_NAME, subject_name),\n",
        "    ])\n",
        "    issuer = x509.Name([\n",
        "        x509.NameAttribute(NameOID.COMMON_NAME, issuer_name),\n",
        "    ])\n",
        "    builder = x509.CertificateBuilder()\n",
        "    builder = builder.subject_name(subject)\n",
        "    builder = builder.issuer_name(issuer)\n",
        "    builder = builder.public_key(private_key.public_key())\n",
        "    builder = builder.serial_number(x509.random_serial_number())\n",
        "    builder = builder.not_valid_before(datetime.datetime.now(datetime.timezone.utc))\n",
        "    builder = builder.not_valid_after(datetime.datetime.now(datetime.timezone.utc) + datetime.timedelta(days=365))\n",
        "\n",
        "    certificate = builder.sign(private_key, hashes.SHA256(), default_backend())\n",
        "    return certificate\n",
        "\n",
        "def build_certificate_chain(user_cert_path, intermediate_cert_paths, root_cert_path):\n",
        "    \"\"\"Builds a certificate chain from PEM files.\"\"\"\n",
        "    chain = []\n",
        "    with open(user_cert_path, \"rb\") as f:\n",
        "        chain.append(x509.load_pem_x509_certificate(f.read(), default_backend()))\n",
        "    for path in intermediate_cert_paths:\n",
        "        with open(path, \"rb\") as f:\n",
        "            chain.append(x509.load_pem_x509_certificate(f.read(), default_backend()))\n",
        "    with open(root_cert_path, \"rb\") as f:\n",
        "        chain.append(x509.load_pem_x509_certificate(f.read(), default_backend()))\n",
        "    return chain"
      ],
      "execution_count": null,
      "outputs": []
    },
    {
      "cell_type": "code",
      "metadata": {
        "id": "49b015fb"
      },
      "source": [
        "# Create the src directory\n",
        "import os\n",
        "os.makedirs('src', exist_ok=True)"
      ],
      "execution_count": 4,
      "outputs": []
    }
  ],
  "metadata": {
    "kernelspec": {
      "display_name": "Python 3",
      "language": "python",
      "name": "python3"
    },
    "language_info": {
      "name": "python"
    },
    "colab": {
      "provenance": [],
      "include_colab_link": true
    }
  },
  "nbformat": 4,
  "nbformat_minor": 0
}